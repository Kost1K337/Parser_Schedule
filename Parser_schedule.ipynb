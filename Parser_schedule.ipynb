{
 "cells": [
  {
   "cell_type": "code",
   "execution_count": 11,
   "metadata": {},
   "outputs": [],
   "source": [
    "def parse_schedule(name):\n",
    "    f = open(name, 'r', encoding='utf-8')\n",
    "    print(f.read())"
   ]
  },
  {
   "cell_type": "code",
   "execution_count": 12,
   "metadata": {},
   "outputs": [
    {
     "name": "stdout",
     "output_type": "stream",
     "text": [
      "COMPDAT\n",
      "-- с двух тире начинается комментарий\n",
      "'W1' 10 10  1   3 \tOPEN \t1* \t1\t2 \t1 \t3* \t\t\t1.0 /  -- и комментарии могут быть\n",
      "'W2' 32 10  1   3 \tOPEN \t1* \t1 \t2 \t1 \t3* \t\t\t2.0 /\n",
      "/  -- практически где угодно\n",
      "\n",
      "COMPDAT\n",
      "-- если у нас несколько секций на одну дату, то их имеет смысл объединить в одну\n",
      "'W3' 5  36  2   2 \tOPEN \t1* \t1 \t2 \t1 \t3* \t\t\t3.0 /\n",
      "'W4' 40 30  1   3 \tOPEN \t1* \t1 \t2 \t1 \t3* \t\t\t4.0 /\n",
      "/\n",
      "\n",
      "COMPDAT\n",
      "-- эти три секции (одна, разбитая на три) вне дат, но мы не должны их потерять при парсинге\n",
      "'W5' 21 21  4   4 \tOPEN \t1* \t1 \t2 \t1\t3* \t\t\t5.0 /\n",
      "/\n",
      "\n",
      "DATES\n",
      "01 JUN 2018 /\n",
      "/\n",
      "\n",
      "-- есть еще множество других ключевых слов, например, WEFAC,\n",
      "-- но они нас не интересуют в этой задаче, можем смело их пропускать\n",
      "-- кстати, на эту дату нет интересующих нас секций\n",
      "WEFAC\n",
      " W1\t1.0\t/\n",
      "/\n",
      "\n",
      "DATES\n",
      "01 JUL 2018 /\n",
      "/\n",
      "\n",
      "COMPDAT\n",
      "'W3' 32 10  1   1 \tOPEN \t1* \t1 \t2 \t1 \t3* \t\t\t1.0718 /\n",
      "'W5' 21 21  1   3 \tOPEN \t1* \t1 \t2 \t1\t3* \t\t\t5.0 /\n",
      "/\n",
      "\n",
      "DATES\n",
      "01 AUG 2018 /  -- даты можно объединять,\n",
      "01 SEP 2018 /  -- но только на последнюю мы получим отчет\n",
      "/\n",
      "\n",
      "COMPDAT\n",
      "'W1' 10 10  2   3 \tOPEN \t1* \t1\t2 \t1 \t3* \t\t\t1.0918 /\n",
      "'W2' 32 10  1   2 \tOPEN \t1* \t1 \t2 \t1 \t3* \t\t\t2.0 /\n",
      "/\n",
      "\n",
      "COMPDATL\n",
      "'W3' 'LGR1' 10 10  2   2 \tOPEN \t1* \t1\t2 \t1 \t3* \t\t\t1.0918 /\n",
      "/\n",
      "\n",
      "DATES\n",
      "01 OCT 2018 /\n",
      "/\n",
      "\n",
      "DATES\n",
      "01 NOV 2018 /\n",
      "/\n",
      "\n",
      "DATES\n",
      "01 DEC 2018 /\n",
      "/\n",
      "\n",
      "END\n",
      "\n"
     ]
    }
   ],
   "source": [
    "parse_schedule('test_schedule.inc')"
   ]
  }
 ],
 "metadata": {
  "kernelspec": {
   "display_name": "Python 3",
   "language": "python",
   "name": "python3"
  },
  "language_info": {
   "codemirror_mode": {
    "name": "ipython",
    "version": 3
   },
   "file_extension": ".py",
   "mimetype": "text/x-python",
   "name": "python",
   "nbconvert_exporter": "python",
   "pygments_lexer": "ipython3",
   "version": "3.8.3"
  }
 },
 "nbformat": 4,
 "nbformat_minor": 4
}
